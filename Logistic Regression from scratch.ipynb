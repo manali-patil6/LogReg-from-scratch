{
 "cells": [
  {
   "cell_type": "markdown",
   "metadata": {},
   "source": [
    "# Introduction: What is Logistic Regression?\n",
    "Logistic regression is a supervised learning classification algorithm used to predict the probability of a target variable. The nature of target or dependent variable is dichotomous, which means there would be only two possible classes."
   ]
  },
  {
   "cell_type": "code",
   "execution_count": 1,
   "metadata": {},
   "outputs": [],
   "source": [
    "import numpy as np\n",
    "import matplotlib.pyplot as plt\n",
    "from sklearn.datasets import make_classification\n",
    "import seaborn as sns"
   ]
  },
  {
   "cell_type": "markdown",
   "metadata": {},
   "source": [
    "## Behind The Mask \n",
    "\n",
    "The term **logistic** in logistic regression is used because we are applying another function to the weighted sum of input data and parameters of the model and this function is called logit (**sigmoid**) function.\n",
    "\n",
    "Sigmoid function always outputs values between 0 and 1, mapping values to a range and thus can be used to calculate probabilities of input data belonging to a certain class:\n",
    "\n",
    "\n",
    "<img src=\"https://miro.medium.com/max/271/1*Gp5E23P5d2PY5D5kOo8ePw.png\" width = \"200\" height = \"100\">\n",
    "<img src=\"https://miro.medium.com/max/1280/1*OUOB_YF41M-O4GgZH_F2rw.png\" width = \"400\" height = \"200\" >"
   ]
  },
  {
   "cell_type": "code",
   "execution_count": null,
   "metadata": {},
   "outputs": [],
   "source": [
    "def sigmoid(x):\n",
    "\n",
    "    % ====================== YOUR CODE HERE ======================================================\n",
    "    % Instructions: Compute the sigmoid of each value of x (x can be a matrix, vector or scalar).\n",
    "\n",
    "\n",
    "\n",
    "    % ============================================================================================"
   ]
  },
  {
   "cell_type": "markdown",
   "metadata": {},
   "source": [
    "## Performance Measure\n",
    "\n",
    "Weights (represented by theta in our notation) is a vital part of Logistic Regression and other Machine Learning algorithms and we want to find the best values for them. To start we pick random values and we need a way to measure how well the algorithm performs using those random weights. That measure is computed using the **cost function**. \n",
    "\n",
    "The cost function is defined as:\n",
    "\n",
    "<img src=\"https://miro.medium.com/max/1400/1*2g14OVjyJqio2zXwJxgj2w.png\" width = \"600\" height = \"400\">\n",
    "\n",
    "The above two functions can be compressed into a single function i.e.\n",
    "\n",
    "<img src=\"https://miro.medium.com/max/1400/1*_52kKSp8zWgVTNtnE2eYrg.png\" width = \"600\" height = \"400\">\n"
   ]
  },
  {
   "cell_type": "code",
   "execution_count": null,
   "metadata": {},
   "outputs": [],
   "source": [
    "def compute_cost(X, y, theta):\n",
    "\n",
    "    # Initialize some useful values\n",
    "    m = length(y) % number of training examples\n",
    "\n",
    "\n",
    "    % ====================== YOUR CODE HERE ==========================\n",
    "    % Instructions: Compute the cost of a particular choice of theta.\n",
    "    %               \n",
    "    %\n",
    "    % ================================================================"
   ]
  },
  {
   "cell_type": "markdown",
   "metadata": {},
   "source": [
    "## Finding Optimal Parameters\n",
    "The goal is to minimize the cost by means of increasing or decreasing the weights. \n",
    "This can be done with a function called **Gradient Descent**. <br>\n",
    "\n",
    "Gradient descent is just the **derivative of the cost function with respect to its weights**.\n",
    "Now to minimize our cost function we need to run the gradient descent function on each parameter i.e.\n",
    "<img src=\"https://miro.medium.com/max/245/1*1--MUhjPjOL7oYdVo7R6gQ.png\">\n",
    "\n",
    "Where: α = **learning rate** (usually 0.1)\n",
    "\n",
    "This is implemented as follows :\n",
    "<img src=\"https://miro.medium.com/max/1400/1*Ecea3jVIRxK4Mkrh_Nie4w.jpeg\" width = \"500\" height = \"300\">"
   ]
  },
  {
   "cell_type": "code",
   "execution_count": null,
   "metadata": {},
   "outputs": [],
   "source": [
    "def gradient_descent(X, y, theta, learning_rate, iterations):\n",
    "    \n",
    "    # Initialize some useful values\n",
    "    m = len(y)\n",
    "    cost_history = np.zeros((iterations,1))\n",
    "    \n",
    "\n",
    "    % ====================== YOUR CODE HERE ==============================================\n",
    "    % Instructions: Write a for loop that runs the parameter \"iterations\" number of times.\n",
    "        In each iteration do the following -\n",
    "        > Update theta according to the formula shown above\n",
    "        > Compute cost for current theta using compute_cost() and enter\n",
    "          it into the array cost_history at that iteration index.\n",
    "    %\n",
    "    %   Return (cost_history, theta)\n",
    "    %\n",
    "    %\n",
    "    %               \n",
    "    %\n",
    "    % ===================================================================================="
   ]
  },
  {
   "cell_type": "markdown",
   "metadata": {},
   "source": [
    "## Predicting Classes\n",
    "Now let's write the **prediction function**. <br>\n",
    "\n",
    "Since we are dealing with probabilities here, if the resulting value is above 0.50, we round it up to 1, meaning the data sample belongs to the class 1. Consequently, if the probability of a data sample belonging to the class 1 is below 0.50, it simply means that it is part of the other class (class 0).<br>\n",
    "\n",
    "Remember that this is binary classification, so we have only two classes (class 1 and class 0)."
   ]
  },
  {
   "cell_type": "code",
   "execution_count": null,
   "metadata": {},
   "outputs": [],
   "source": [
    "def predict(X, theta):\n",
    "    \n",
    "    # Initialize some useful values\n",
    "    m = size(X, 1); % Number of training examples\n",
    "\n",
    "    % ====================== YOUR CODE HERE =================================\n",
    "    % Instructions: Compute the predictions for X using a threshold at 0.5 \n",
    "        (i.e., if sigmoid(theta.T * x) >= 0.5, predict 1)\n",
    "\n",
    "\n",
    "\n",
    "    % ======================================================================="
   ]
  },
  {
   "cell_type": "markdown",
   "metadata": {},
   "source": [
    "## Dataset Generation\n",
    "After writing the code for the necessary functions, let’s create our very own dataset with **make_classification** function from **sklearn.datasets**. <br>\n",
    "\n",
    "We will create **500 sample points** with **two classes** and plot the dataset with the help of seaborn library."
   ]
  },
  {
   "cell_type": "code",
   "execution_count": 2,
   "metadata": {},
   "outputs": [
    {
     "data": {
      "image/png": "[encoded data removed]",
      "text/plain": [
       "<Figure size 432x288 with 1 Axes>"
      ]
     },
     "metadata": {},
     "output_type": "display_data"
    }
   ],
   "source": [
    "X, y = make_classification(n_samples=500, n_features=2, n_redundant=0, n_informative=1,\n",
    "                             n_clusters_per_class=1, random_state=14)\n",
    "\n",
    "y = y[:,np.newaxis]\n",
    "\n",
    "sns.set_style('white')\n",
    "sns.scatterplot(X[:,0],X[:,1],hue=y.reshape(-1));"
   ]
  },
  {
   "cell_type": "markdown",
   "metadata": {},
   "source": [
    "## Model Testing \n",
    "Finally, here is the algorithm for implementation, that we built for you using the functions you created above.\n",
    "\n",
    "Now, let's run it to calculate the parameters of our model."
   ]
  },
  {
   "cell_type": "code",
   "execution_count": null,
   "metadata": {},
   "outputs": [],
   "source": [
    "m = len(y)\n",
    "\n",
    "X = np.hstack((np.ones((m,1)),X))\n",
    "n = np.size(X,1)\n",
    "theta = np.zeros((n,1))\n",
    "\n",
    "iterations = 1500\n",
    "learning_rate = 0.03\n",
    "\n",
    "initial_cost = compute_cost(X, y, theta)\n",
    "\n",
    "print(\"Initial Cost is: {} \\n\".format(initial_cost))\n",
    "\n",
    "(cost_history, params_optimal) = gradient_descent(X, y, params, learning_rate, iterations)\n",
    "\n",
    "print(\"Optimal Parameters are: \\n\", params_optimal, \"\\n\")"
   ]
  },
  {
   "cell_type": "markdown",
   "metadata": {},
   "source": [
    "Now we will plot the cost as a function of number of iterations."
   ]
  },
  {
   "cell_type": "code",
   "execution_count": null,
   "metadata": {},
   "outputs": [],
   "source": [
    "plt.figure()\n",
    "sns.set_style('white')\n",
    "plt.plot(range(len(cost_history)), cost_history, 'r')\n",
    "plt.title(\"Convergence Graph of Cost Function\")\n",
    "plt.xlabel(\"Number of Iterations\")\n",
    "plt.ylabel(\"Cost\")\n",
    "plt.show()"
   ]
  },
  {
   "cell_type": "markdown",
   "metadata": {},
   "source": [
    "\n",
    "- Does the cost decrease with every iteration?<br>\n",
    "\n",
    "- Does it converge to a minimum value?\n"
   ]
  },
  {
   "cell_type": "markdown",
   "metadata": {},
   "source": [
    "## Model Accuracy\n",
    "After running the algorithm and getting the optimal parameters, we want to know how successful our model is at predicting the classes of our data."
   ]
  },
  {
   "cell_type": "code",
   "execution_count": null,
   "metadata": {},
   "outputs": [],
   "source": [
    "y_pred = predict(X, params_optimal)\n",
    "score = float(sum(y_pred == y))/ float(len(y))\n",
    "\n",
    "print(score)"
   ]
  },
  {
   "cell_type": "markdown",
   "metadata": {},
   "source": [
    "What accuracy score did you achieve?!"
   ]
  },
  {
   "cell_type": "markdown",
   "metadata": {},
   "source": [
    "## Dataset Plotting with Decision Boundary\n",
    "Now, for the sake of visualization, let’s plot our dataset along with the **decision boundary** of our model.<br>\n",
    "\n",
    "\n",
    "We simply calculate the intercept and slope values using the optimal parameters and plot the boundary that classifies the data into two classes."
   ]
  },
  {
   "cell_type": "code",
   "execution_count": null,
   "metadata": {},
   "outputs": [],
   "source": [
    "slope = -(params_optimal[1] / params_optimal[2])\n",
    "intercept = -(params_optimal[0] / params_optimal[2])\n",
    "\n",
    "sns.set_style('white')\n",
    "sns.scatterplot(X[:,1],X[:,2],hue=y.reshape(-1));\n",
    "\n",
    "ax = plt.gca()\n",
    "ax.autoscale(False)\n",
    "x_vals = np.array(ax.get_xlim())\n",
    "y_vals = intercept + (slope * x_vals)\n",
    "plt.plot(x_vals, y_vals, c=\"k\");"
   ]
  },
  {
   "cell_type": "markdown",
   "metadata": {},
   "source": [
    "Is the classification 100% correct?\n",
    "\n",
    "If not, how many misclassifications are present?"
   ]
  },
  {
   "cell_type": "markdown",
   "metadata": {},
   "source": [
    "### Congratulations! You just successfully implemented Logistic regression from scratch!"
   ]
  }
 ],
 "metadata": {
  "kernelspec": {
   "display_name": "Python 3",
   "language": "python",
   "name": "python3"
  },
  "language_info": {
   "codemirror_mode": {
    "name": "ipython",
    "version": 3
   },
   "file_extension": ".py",
   "mimetype": "text/x-python",
   "name": "python",
   "nbconvert_exporter": "python",
   "pygments_lexer": "ipython3",
   "version": "3.7.3"
  }
 },
 "nbformat": 4,
 "nbformat_minor": 2
}
